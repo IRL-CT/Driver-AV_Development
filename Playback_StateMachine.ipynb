{
 "cells": [
  {
   "cell_type": "code",
   "execution_count": 1,
   "id": "ae1edbf4",
   "metadata": {},
   "outputs": [],
   "source": [
    "import numpy as np\n",
    "import torch\n",
    "import torch.nn as nn\n",
    "import torch.nn.functional as F\n",
    "from sklearn.preprocessing import StandardScaler\n",
    "import collections\n",
    "import socket\n",
    "import struct\n",
    "import os\n",
    "import pickle\n",
    "import time"
   ]
  },
  {
   "cell_type": "code",
   "execution_count": 2,
   "id": "4fd06e2a",
   "metadata": {},
   "outputs": [],
   "source": [
    "ScalerPath = \"./Model/Scaler.pickle\"\n",
    "ModelPath = \"./Model/Clf_Model_1112.pickle\"\n",
    "HeaderWithoutAccel = [\"ApproachRateOther\", \n",
    "                      \"Rel_Pos_Magnitude\", \n",
    "                      \"1_Head_Center_Distance\", \"2_Head_Center_Distance\", \n",
    "                      # \"Filtered_1_Head_Velocity_Total\",\n",
    "                      \"Filtered_2_Head_Velocity_Total\",\n",
    "                    #   \"1_Turn\",\n",
    "                    #   \"2_Indicator\",\n",
    "                    #   \"Centerline_Offset_2\",\n",
    "                      \"RelativeRotation\"\n",
    "                      ] # Signaling ()\n",
    "\n",
    "# outputHeader = [\"Centerline_Offset_A\"]\n",
    "outputHeader = [\"Cat_Accel1\"]\n"
   ]
  },
  {
   "cell_type": "code",
   "execution_count": 3,
   "id": "e7580e95",
   "metadata": {},
   "outputs": [],
   "source": [
    "class GRUModel(nn.Module):\n",
    "    def __init__(self, input_size, hidden_size, output_size, num_layers):\n",
    "        super(GRUModel, self).__init__()\n",
    "        self.hidden_size = hidden_size\n",
    "        self.num_layers = num_layers\n",
    "\n",
    "        # GRU layer: processes sequences\n",
    "        self.rnn = nn.GRU(input_size, hidden_size, num_layers, batch_first=True)\n",
    "        # Fully connected layer for output\n",
    "        self.fc = nn.Linear(hidden_size, output_size)\n",
    "\n",
    "    def forward(self, x):\n",
    "        # Initialize the hidden state for the first sequence\n",
    "        h0 = torch.zeros(self.num_layers, x.size(0), self.hidden_size).to(x.device)\n",
    "\n",
    "        # Forward propagate through GRU\n",
    "        out, _ = self.rnn(x, h0)  # out shape: (batch_size, sequence_length, hidden_size)\n",
    "\n",
    "        # Use the hidden state from the last time step\n",
    "        out = out[:, -1, :]  # Shape: (batch_size, hidden_size)\n",
    "\n",
    "        # Pass through the fully connected layer\n",
    "        out = self.fc(out)  # Shape: (batch_size, output_size)\n",
    "        \n",
    "        prob = F.softmax(out, dim=1)\n",
    "        return prob\n"
   ]
  },
  {
   "cell_type": "code",
   "execution_count": 4,
   "id": "b15c7f0b",
   "metadata": {},
   "outputs": [
    {
     "name": "stderr",
     "output_type": "stream",
     "text": [
      "c:\\Users\\farla\\anaconda3\\envs\\DriverAVPython\\Lib\\site-packages\\sklearn\\base.py:376: InconsistentVersionWarning: Trying to unpickle estimator StandardScaler from version 1.3.2 when using version 1.5.2. This might lead to breaking code or invalid results. Use at your own risk. For more info please refer to:\n",
      "https://scikit-learn.org/stable/model_persistence.html#security-maintainability-limitations\n",
      "  warnings.warn(\n"
     ]
    }
   ],
   "source": [
    "scaler=None\n",
    "if os.path.exists(ScalerPath):\n",
    "    with open(ScalerPath, 'rb') as file:\n",
    "        scaler = pickle.load(file)\n",
    "else:\n",
    "    print (\"Could NOT find Scaler\")"
   ]
  },
  {
   "cell_type": "code",
   "execution_count": 5,
   "id": "3d550c98",
   "metadata": {},
   "outputs": [
    {
     "name": "stderr",
     "output_type": "stream",
     "text": [
      "C:\\Users\\farla\\AppData\\Local\\Temp\\ipykernel_7500\\3450660157.py:14: FutureWarning: You are using `torch.load` with `weights_only=False` (the current default value), which uses the default pickle module implicitly. It is possible to construct malicious pickle data which will execute arbitrary code during unpickling (See https://github.com/pytorch/pytorch/blob/main/SECURITY.md#untrusted-models for more details). In a future release, the default value for `weights_only` will be flipped to `True`. This limits the functions that could be executed during unpickling. Arbitrary objects will no longer be allowed to be loaded via this mode unless they are explicitly allowlisted by the user via `torch.serialization.add_safe_globals`. We recommend you start setting `weights_only=True` for any use case where you don't have full control of the loaded file. Please open an issue on GitHub for any issues related to this experimental feature.\n",
      "  net.load_state_dict(torch.load(ModelPath))\n"
     ]
    }
   ],
   "source": [
    "# Set parameters\n",
    "input_size = len(HeaderWithoutAccel)\n",
    "output_size = 2\n",
    "hidden_size = 32\n",
    "num_layers = 1\n",
    "num_classes = 2\n",
    "TargetTimeLength = 0.75 ## in seconds\n",
    "Seq_Length = 13\n",
    "num_epochs = 10\n",
    "batch_size = 64\n",
    "\n",
    "# Create the model\n",
    "net = GRUModel(input_size, hidden_size, output_size, num_layers)\n",
    "net.load_state_dict(torch.load(ModelPath))\n",
    "net.eval()\n",
    "d = collections.deque(maxlen=Seq_Length)"
   ]
  },
  {
   "cell_type": "code",
   "execution_count": 6,
   "id": "ea3077fd",
   "metadata": {},
   "outputs": [
    {
     "name": "stderr",
     "output_type": "stream",
     "text": [
      "C:\\Users\\farla\\AppData\\Local\\Temp\\ipykernel_7500\\1510404328.py:5: UserWarning: Creating a tensor from a list of numpy.ndarrays is extremely slow. Please consider converting the list to a single numpy.ndarray with numpy.array() before converting to a tensor. (Triggered internally at C:\\actions-runner\\_work\\pytorch\\pytorch\\builder\\windows\\pytorch\\torch\\csrc\\utils\\tensor_new.cpp:281.)\n",
      "  net(torch.Tensor([scaled_features]))\n"
     ]
    },
    {
     "data": {
      "text/plain": [
       "tensor([[1.6701e-10, 1.0000e+00]], grad_fn=<SoftmaxBackward0>)"
      ]
     },
     "execution_count": 6,
     "metadata": {},
     "output_type": "execute_result"
    }
   ],
   "source": [
    "# Initial Status\n",
    "for i in range(Seq_Length):\n",
    "    d.append(np.ones(input_size)+i)\n",
    "scaled_features = scaler.transform(np.array(d))\n",
    "net(torch.Tensor([scaled_features]))"
   ]
  },
  {
   "cell_type": "code",
   "execution_count": 7,
   "id": "ac4d6bbf",
   "metadata": {},
   "outputs": [
    {
     "data": {
      "text/plain": [
       "(13, 6)"
      ]
     },
     "execution_count": 7,
     "metadata": {},
     "output_type": "execute_result"
    }
   ],
   "source": [
    "scaled_features.shape"
   ]
  },
  {
   "cell_type": "code",
   "execution_count": 8,
   "id": "daf31bc3",
   "metadata": {},
   "outputs": [],
   "source": [
    "UDP_IP = \"127.0.0.1\"\n",
    "txPort = 8000\n",
    "rxPort = 8001\n",
    "sock = socket.socket(socket.AF_INET, socket.SOCK_DGRAM) # UDP\n",
    "sock.bind((UDP_IP, rxPort))"
   ]
  },
  {
   "cell_type": "code",
   "execution_count": 9,
   "id": "158e97ef",
   "metadata": {},
   "outputs": [],
   "source": [
    "val = net(torch.Tensor([scaled_features]))[0].detach().numpy()\n",
    "floatlist = [float(val[0]), float(val[1])]\n",
    "floatlist\n",
    "buf = struct.pack('%sf' % len(floatlist), *floatlist)"
   ]
  },
  {
   "cell_type": "code",
   "execution_count": 10,
   "id": "489c7807",
   "metadata": {},
   "outputs": [
    {
     "ename": "",
     "evalue": "",
     "output_type": "error",
     "traceback": [
      "\u001b[1;31mCannot execute code, session has been disposed. Please try restarting the Kernel."
     ]
    },
    {
     "ename": "",
     "evalue": "",
     "output_type": "error",
     "traceback": [
      "\u001b[1;31mCannot execute code, session has been disposed. Please try restarting the Kernel. \n",
      "\u001b[1;31mView Jupyter <a href='command:jupyter.viewOutput'>log</a> for further details."
     ]
    }
   ],
   "source": [
    "while True:\n",
    "    exam_data = []\n",
    "    try:\n",
    "        data, addr = sock.recvfrom(1024) # buffer size is 1024 bytes\n",
    "       \n",
    "        if(int(len(data)/4)!=input_size):\n",
    "            print(\"Didnt get enoughb bytes, continuing!\",int(len(data)/4))\n",
    "            continue\n",
    "        array = struct.unpack(\"f\" * input_size, data) \n",
    "\n",
    "        d.append(np.array(array))\n",
    "        exam_data.append(array)\n",
    "        scaled_features = scaler.transform(np.array(d))\n",
    "        # [Accel, Yield] Possibility\n",
    "        val = net(torch.Tensor([scaled_features]))[0].detach().numpy()\n",
    "        floatlist = [float(val[0]), float(val[1])]\n",
    "        print(floatlist)\n",
    "        #print(array,val)\n",
    "        buf = struct.pack('%sf' % len(floatlist), *floatlist)\n",
    "        sock.sendto(buf, (UDP_IP, txPort))\n",
    "    except BlockingIOError: \n",
    "        time.sleep(1/19)"
   ]
  },
  {
   "cell_type": "code",
   "execution_count": 1,
   "id": "6dac70ab",
   "metadata": {},
   "outputs": [
    {
     "ename": "NameError",
     "evalue": "name 'exam_data' is not defined",
     "output_type": "error",
     "traceback": [
      "\u001b[1;31m---------------------------------------------------------------------------\u001b[0m",
      "\u001b[1;31mNameError\u001b[0m                                 Traceback (most recent call last)",
      "Cell \u001b[1;32mIn[1], line 1\u001b[0m\n\u001b[1;32m----> 1\u001b[0m \u001b[43mexam_data\u001b[49m\n",
      "\u001b[1;31mNameError\u001b[0m: name 'exam_data' is not defined"
     ]
    }
   ],
   "source": []
  },
  {
   "cell_type": "code",
   "execution_count": null,
   "id": "a49d3864",
   "metadata": {},
   "outputs": [],
   "source": []
  }
 ],
 "metadata": {
  "kernelspec": {
   "display_name": "driver-driver",
   "language": "python",
   "name": "python3"
  },
  "language_info": {
   "codemirror_mode": {
    "name": "ipython",
    "version": 3
   },
   "file_extension": ".py",
   "mimetype": "text/x-python",
   "name": "python",
   "nbconvert_exporter": "python",
   "pygments_lexer": "ipython3",
   "version": "3.8.20"
  }
 },
 "nbformat": 4,
 "nbformat_minor": 5
}
