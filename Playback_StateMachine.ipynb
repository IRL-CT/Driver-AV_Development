{
 "cells": [
  {
   "cell_type": "code",
   "execution_count": 2,
   "id": "ae1edbf4",
   "metadata": {},
   "outputs": [],
   "source": [
    "import numpy as np\n",
    "import torch\n",
    "import torch.nn as nn\n",
    "import torch.nn.functional as F\n",
    "from sklearn.preprocessing import StandardScaler\n",
    "import collections\n",
    "import socket\n",
    "import struct\n",
    "import os\n",
    "import pickle\n",
    "import time"
   ]
  },
  {
   "cell_type": "code",
   "execution_count": 3,
   "id": "4fd06e2a",
   "metadata": {},
   "outputs": [],
   "source": [
    "ScalerPath = \"./Model/Scaler.pickle\"\n",
    "ModelPath = \"./Model/Clf_Model_1112.pickle\"\n",
    "HeaderWithoutAccel = [\"ApproachRateOther\", \n",
    "                      \"Rel_Pos_Magnitude\", \n",
    "                      \"1_Head_Center_Distance\", \"2_Head_Center_Distance\", \n",
    "                      # \"Filtered_1_Head_Velocity_Total\",\n",
    "                      \"Filtered_2_Head_Velocity_Total\",\n",
    "                    #   \"1_Turn\",\n",
    "                    #   \"2_Indicator\",\n",
    "                    #   \"Centerline_Offset_2\",\n",
    "                      \"RelativeRotation\"\n",
    "                      ] # Signaling ()\n",
    "\n",
    "# outputHeader = [\"Centerline_Offset_A\"]\n",
    "outputHeader = [\"Cat_Accel1\"]\n"
   ]
  },
  {
   "cell_type": "code",
   "execution_count": 4,
   "id": "e7580e95",
   "metadata": {},
   "outputs": [],
   "source": [
    "class GRUModel(nn.Module):\n",
    "    def __init__(self, input_size, hidden_size, output_size, num_layers):\n",
    "        super(GRUModel, self).__init__()\n",
    "        self.hidden_size = hidden_size\n",
    "        self.num_layers = num_layers\n",
    "\n",
    "        # GRU layer: processes sequences\n",
    "        self.rnn = nn.GRU(input_size, hidden_size, num_layers, batch_first=True)\n",
    "        # Fully connected layer for output\n",
    "        self.fc = nn.Linear(hidden_size, output_size)\n",
    "\n",
    "    def forward(self, x):\n",
    "        # Initialize the hidden state for the first sequence\n",
    "        h0 = torch.zeros(self.num_layers, x.size(0), self.hidden_size).to(x.device)\n",
    "\n",
    "        # Forward propagate through GRU\n",
    "        out, _ = self.rnn(x, h0)  # out shape: (batch_size, sequence_length, hidden_size)\n",
    "\n",
    "        # Use the hidden state from the last time step\n",
    "        out = out[:, -1, :]  # Shape: (batch_size, hidden_size)\n",
    "\n",
    "        # Pass through the fully connected layer\n",
    "        out = self.fc(out)  # Shape: (batch_size, output_size)\n",
    "        \n",
    "        prob = F.softmax(out, dim=1)\n",
    "        return prob\n"
   ]
  },
  {
   "cell_type": "code",
   "execution_count": 5,
   "id": "b15c7f0b",
   "metadata": {},
   "outputs": [
    {
     "name": "stderr",
     "output_type": "stream",
     "text": [
      "/Users/zhuoqi/anaconda3/envs/driver-driver/lib/python3.8/site-packages/sklearn/base.py:348: InconsistentVersionWarning: Trying to unpickle estimator StandardScaler from version 1.3.2 when using version 1.3.1. This might lead to breaking code or invalid results. Use at your own risk. For more info please refer to:\n",
      "https://scikit-learn.org/stable/model_persistence.html#security-maintainability-limitations\n",
      "  warnings.warn(\n"
     ]
    }
   ],
   "source": [
    "scaler=None\n",
    "if os.path.exists(ScalerPath):\n",
    "    with open(ScalerPath, 'rb') as file:\n",
    "        scaler = pickle.load(file)\n",
    "else:\n",
    "    print (\"Could NOT find Scaler\")"
   ]
  },
  {
   "cell_type": "code",
   "execution_count": 6,
   "id": "3d550c98",
   "metadata": {},
   "outputs": [
    {
     "name": "stderr",
     "output_type": "stream",
     "text": [
      "/var/folders/py/bm4kf8_j7tn54t9vvg2pyb5r0000gn/T/ipykernel_18909/1760897201.py:14: FutureWarning: You are using `torch.load` with `weights_only=False` (the current default value), which uses the default pickle module implicitly. It is possible to construct malicious pickle data which will execute arbitrary code during unpickling (See https://github.com/pytorch/pytorch/blob/main/SECURITY.md#untrusted-models for more details). In a future release, the default value for `weights_only` will be flipped to `True`. This limits the functions that could be executed during unpickling. Arbitrary objects will no longer be allowed to be loaded via this mode unless they are explicitly allowlisted by the user via `torch.serialization.add_safe_globals`. We recommend you start setting `weights_only=True` for any use case where you don't have full control of the loaded file. Please open an issue on GitHub for any issues related to this experimental feature.\n",
      "  net.load_state_dict(torch.load(ModelPath))\n"
     ]
    }
   ],
   "source": [
    "# Set parameters\n",
    "input_size = len(HeaderWithoutAccel)\n",
    "output_size = 2\n",
    "hidden_size = 32\n",
    "num_layers = 3\n",
    "num_classes = 2\n",
    "TargetTimeLength = 0.75 ## in seconds\n",
    "Seq_Length = 13\n",
    "num_epochs = 10\n",
    "batch_size = 64\n",
    "\n",
    "# Create the model\n",
    "net = GRUModel(input_size, hidden_size, output_size, num_layers)\n",
    "net.load_state_dict(torch.load(ModelPath))\n",
    "net.eval()\n",
    "d = collections.deque(maxlen=Seq_Length)"
   ]
  },
  {
   "cell_type": "code",
   "execution_count": 7,
   "id": "ea3077fd",
   "metadata": {},
   "outputs": [
    {
     "name": "stderr",
     "output_type": "stream",
     "text": [
      "/var/folders/py/bm4kf8_j7tn54t9vvg2pyb5r0000gn/T/ipykernel_18909/1510404328.py:5: UserWarning: Creating a tensor from a list of numpy.ndarrays is extremely slow. Please consider converting the list to a single numpy.ndarray with numpy.array() before converting to a tensor. (Triggered internally at /Users/runner/work/_temp/anaconda/conda-bld/pytorch_1720538210021/work/torch/csrc/utils/tensor_new.cpp:281.)\n",
      "  net(torch.Tensor([scaled_features]))\n"
     ]
    },
    {
     "data": {
      "text/plain": [
       "tensor([[2.1326e-10, 1.0000e+00]], grad_fn=<SoftmaxBackward0>)"
      ]
     },
     "execution_count": 7,
     "metadata": {},
     "output_type": "execute_result"
    }
   ],
   "source": [
    "# Initial Status\n",
    "for i in range(Seq_Length):\n",
    "    d.append(np.ones(input_size)+i)\n",
    "scaled_features = scaler.transform(np.array(d))\n",
    "net(torch.Tensor([scaled_features]))"
   ]
  },
  {
   "cell_type": "code",
   "execution_count": 8,
   "id": "daf31bc3",
   "metadata": {},
   "outputs": [],
   "source": [
    "UDP_IP = \"127.0.0.1\"\n",
    "txPort = 8000\n",
    "rxPort = 8001\n",
    "sock = socket.socket(socket.AF_INET, socket.SOCK_DGRAM) # UDP\n",
    "sock.bind((UDP_IP, rxPort))"
   ]
  },
  {
   "cell_type": "code",
   "execution_count": 9,
   "id": "158e97ef",
   "metadata": {},
   "outputs": [],
   "source": [
    "val = net(torch.Tensor([scaled_features]))[0].detach().numpy()\n",
    "floatlist = [float(val[0]), float(val[1])]\n",
    "floatlist\n",
    "buf = struct.pack('%sf' % len(floatlist), *floatlist)"
   ]
  },
  {
   "cell_type": "code",
   "execution_count": 10,
   "id": "489c7807",
   "metadata": {},
   "outputs": [
    {
     "ename": "KeyboardInterrupt",
     "evalue": "",
     "output_type": "error",
     "traceback": [
      "\u001b[0;31m---------------------------------------------------------------------------\u001b[0m",
      "\u001b[0;31mKeyboardInterrupt\u001b[0m                         Traceback (most recent call last)",
      "Cell \u001b[0;32mIn[10], line 4\u001b[0m\n\u001b[1;32m      2\u001b[0m exam_data \u001b[38;5;241m=\u001b[39m []\n\u001b[1;32m      3\u001b[0m \u001b[38;5;28;01mtry\u001b[39;00m:\n\u001b[0;32m----> 4\u001b[0m     data, addr \u001b[38;5;241m=\u001b[39m \u001b[43msock\u001b[49m\u001b[38;5;241;43m.\u001b[39;49m\u001b[43mrecvfrom\u001b[49m\u001b[43m(\u001b[49m\u001b[38;5;241;43m1024\u001b[39;49m\u001b[43m)\u001b[49m \u001b[38;5;66;03m# buffer size is 1024 bytes\u001b[39;00m\n\u001b[1;32m      6\u001b[0m     \u001b[38;5;28;01mif\u001b[39;00m(\u001b[38;5;28mint\u001b[39m(\u001b[38;5;28mlen\u001b[39m(data)\u001b[38;5;241m/\u001b[39m\u001b[38;5;241m4\u001b[39m)\u001b[38;5;241m!=\u001b[39minput_size):\n\u001b[1;32m      7\u001b[0m         \u001b[38;5;28mprint\u001b[39m(\u001b[38;5;124m\"\u001b[39m\u001b[38;5;124mDidnt get enoughb bytes, continuing!\u001b[39m\u001b[38;5;124m\"\u001b[39m,\u001b[38;5;28mint\u001b[39m(\u001b[38;5;28mlen\u001b[39m(data)\u001b[38;5;241m/\u001b[39m\u001b[38;5;241m4\u001b[39m))\n",
      "\u001b[0;31mKeyboardInterrupt\u001b[0m: "
     ]
    }
   ],
   "source": [
    "while True:\n",
    "    exam_data = []\n",
    "    try:\n",
    "        data, addr = sock.recvfrom(1024) # buffer size is 1024 bytes\n",
    "       \n",
    "        if(int(len(data)/4)!=input_size):\n",
    "            print(\"Didnt get enoughb bytes, continuing!\",int(len(data)/4))\n",
    "            continue\n",
    "        array = struct.unpack(\"f\" * input_size, data) \n",
    "\n",
    "        d.append(np.array(array))\n",
    "        exam_data.append(array)\n",
    "        scaled_features = scaler.transform(np.array(d))\n",
    "        # [Accel, Yield] Possibility\n",
    "        val = net(torch.Tensor([scaled_features]))[0].detach().numpy()\n",
    "        floatlist = [float(val[0]), float(val[1])]\n",
    "        print(floatlist)\n",
    "        #print(array,val)\n",
    "        buf = struct.pack('%sf' % len(floatlist), *floatlist)\n",
    "        sock.sendto(buf, (UDP_IP, txPort))\n",
    "        # save exam_data before interrupt\n",
    "        with open(\"exam_data.pickle\",   'wb') as file:\n",
    "            pickle.dump(exam_data, file)\n",
    "    except BlockingIOError: \n",
    "        time.sleep(1/19)"
   ]
  },
  {
   "cell_type": "code",
   "execution_count": 11,
   "id": "6dac70ab",
   "metadata": {},
   "outputs": [
    {
     "ename": "FileNotFoundError",
     "evalue": "[Errno 2] No such file or directory: 'exam_data.pickle'",
     "output_type": "error",
     "traceback": [
      "\u001b[0;31m---------------------------------------------------------------------------\u001b[0m",
      "\u001b[0;31mFileNotFoundError\u001b[0m                         Traceback (most recent call last)",
      "Cell \u001b[0;32mIn[11], line 3\u001b[0m\n\u001b[1;32m      1\u001b[0m \u001b[38;5;28;01mimport\u001b[39;00m \u001b[38;5;21;01mpandas\u001b[39;00m \u001b[38;5;28;01mas\u001b[39;00m \u001b[38;5;21;01mpd\u001b[39;00m\n\u001b[0;32m----> 3\u001b[0m \u001b[43mpd\u001b[49m\u001b[38;5;241;43m.\u001b[39;49m\u001b[43mread_pickle\u001b[49m\u001b[43m(\u001b[49m\u001b[38;5;124;43m\"\u001b[39;49m\u001b[38;5;124;43mexam_data.pickle\u001b[39;49m\u001b[38;5;124;43m\"\u001b[39;49m\u001b[43m)\u001b[49m\n",
      "File \u001b[0;32m~/anaconda3/envs/driver-driver/lib/python3.8/site-packages/pandas/io/pickle.py:179\u001b[0m, in \u001b[0;36mread_pickle\u001b[0;34m(filepath_or_buffer, compression, storage_options)\u001b[0m\n\u001b[1;32m    115\u001b[0m \u001b[38;5;250m\u001b[39m\u001b[38;5;124;03m\"\"\"\u001b[39;00m\n\u001b[1;32m    116\u001b[0m \u001b[38;5;124;03mLoad pickled pandas object (or any object) from file.\u001b[39;00m\n\u001b[1;32m    117\u001b[0m \n\u001b[0;32m   (...)\u001b[0m\n\u001b[1;32m    176\u001b[0m \u001b[38;5;124;03m4    4    9\u001b[39;00m\n\u001b[1;32m    177\u001b[0m \u001b[38;5;124;03m\"\"\"\u001b[39;00m\n\u001b[1;32m    178\u001b[0m excs_to_catch \u001b[38;5;241m=\u001b[39m (\u001b[38;5;167;01mAttributeError\u001b[39;00m, \u001b[38;5;167;01mImportError\u001b[39;00m, \u001b[38;5;167;01mModuleNotFoundError\u001b[39;00m, \u001b[38;5;167;01mTypeError\u001b[39;00m)\n\u001b[0;32m--> 179\u001b[0m \u001b[38;5;28;01mwith\u001b[39;00m \u001b[43mget_handle\u001b[49m\u001b[43m(\u001b[49m\n\u001b[1;32m    180\u001b[0m \u001b[43m    \u001b[49m\u001b[43mfilepath_or_buffer\u001b[49m\u001b[43m,\u001b[49m\n\u001b[1;32m    181\u001b[0m \u001b[43m    \u001b[49m\u001b[38;5;124;43m\"\u001b[39;49m\u001b[38;5;124;43mrb\u001b[39;49m\u001b[38;5;124;43m\"\u001b[39;49m\u001b[43m,\u001b[49m\n\u001b[1;32m    182\u001b[0m \u001b[43m    \u001b[49m\u001b[43mcompression\u001b[49m\u001b[38;5;241;43m=\u001b[39;49m\u001b[43mcompression\u001b[49m\u001b[43m,\u001b[49m\n\u001b[1;32m    183\u001b[0m \u001b[43m    \u001b[49m\u001b[43mis_text\u001b[49m\u001b[38;5;241;43m=\u001b[39;49m\u001b[38;5;28;43;01mFalse\u001b[39;49;00m\u001b[43m,\u001b[49m\n\u001b[1;32m    184\u001b[0m \u001b[43m    \u001b[49m\u001b[43mstorage_options\u001b[49m\u001b[38;5;241;43m=\u001b[39;49m\u001b[43mstorage_options\u001b[49m\u001b[43m,\u001b[49m\n\u001b[1;32m    185\u001b[0m \u001b[43m\u001b[49m\u001b[43m)\u001b[49m \u001b[38;5;28;01mas\u001b[39;00m handles:\n\u001b[1;32m    186\u001b[0m     \u001b[38;5;66;03m# 1) try standard library Pickle\u001b[39;00m\n\u001b[1;32m    187\u001b[0m     \u001b[38;5;66;03m# 2) try pickle_compat (older pandas version) to handle subclass changes\u001b[39;00m\n\u001b[1;32m    188\u001b[0m     \u001b[38;5;66;03m# 3) try pickle_compat with latin-1 encoding upon a UnicodeDecodeError\u001b[39;00m\n\u001b[1;32m    190\u001b[0m     \u001b[38;5;28;01mtry\u001b[39;00m:\n\u001b[1;32m    191\u001b[0m         \u001b[38;5;66;03m# TypeError for Cython complaints about object.__new__ vs Tick.__new__\u001b[39;00m\n\u001b[1;32m    192\u001b[0m         \u001b[38;5;28;01mtry\u001b[39;00m:\n",
      "File \u001b[0;32m~/anaconda3/envs/driver-driver/lib/python3.8/site-packages/pandas/io/common.py:868\u001b[0m, in \u001b[0;36mget_handle\u001b[0;34m(path_or_buf, mode, encoding, compression, memory_map, is_text, errors, storage_options)\u001b[0m\n\u001b[1;32m    859\u001b[0m         handle \u001b[38;5;241m=\u001b[39m \u001b[38;5;28mopen\u001b[39m(\n\u001b[1;32m    860\u001b[0m             handle,\n\u001b[1;32m    861\u001b[0m             ioargs\u001b[38;5;241m.\u001b[39mmode,\n\u001b[0;32m   (...)\u001b[0m\n\u001b[1;32m    864\u001b[0m             newline\u001b[38;5;241m=\u001b[39m\u001b[38;5;124m\"\u001b[39m\u001b[38;5;124m\"\u001b[39m,\n\u001b[1;32m    865\u001b[0m         )\n\u001b[1;32m    866\u001b[0m     \u001b[38;5;28;01melse\u001b[39;00m:\n\u001b[1;32m    867\u001b[0m         \u001b[38;5;66;03m# Binary mode\u001b[39;00m\n\u001b[0;32m--> 868\u001b[0m         handle \u001b[38;5;241m=\u001b[39m \u001b[38;5;28;43mopen\u001b[39;49m\u001b[43m(\u001b[49m\u001b[43mhandle\u001b[49m\u001b[43m,\u001b[49m\u001b[43m \u001b[49m\u001b[43mioargs\u001b[49m\u001b[38;5;241;43m.\u001b[39;49m\u001b[43mmode\u001b[49m\u001b[43m)\u001b[49m\n\u001b[1;32m    869\u001b[0m     handles\u001b[38;5;241m.\u001b[39mappend(handle)\n\u001b[1;32m    871\u001b[0m \u001b[38;5;66;03m# Convert BytesIO or file objects passed with an encoding\u001b[39;00m\n",
      "\u001b[0;31mFileNotFoundError\u001b[0m: [Errno 2] No such file or directory: 'exam_data.pickle'"
     ]
    }
   ],
   "source": [
    "import pandas as pd\n",
    "\n",
    "pd.read_pickle(\"exam_data.pickle\")"
   ]
  },
  {
   "cell_type": "code",
   "execution_count": null,
   "id": "a49d3864",
   "metadata": {},
   "outputs": [],
   "source": []
  }
 ],
 "metadata": {
  "kernelspec": {
   "display_name": "driver-driver",
   "language": "python",
   "name": "python3"
  },
  "language_info": {
   "codemirror_mode": {
    "name": "ipython",
    "version": 3
   },
   "file_extension": ".py",
   "mimetype": "text/x-python",
   "name": "python",
   "nbconvert_exporter": "python",
   "pygments_lexer": "ipython3",
   "version": "3.8.20"
  }
 },
 "nbformat": 4,
 "nbformat_minor": 5
}
