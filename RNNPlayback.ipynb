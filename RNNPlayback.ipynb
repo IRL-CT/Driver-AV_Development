{
 "cells": [
  {
   "cell_type": "code",
   "execution_count": 2,
   "id": "ae1edbf4",
   "metadata": {},
   "outputs": [],
   "source": [
    "import numpy as np\n",
    "import torch\n",
    "import torch.nn as nn\n",
    "import torch.nn.functional as F\n",
    "from sklearn.preprocessing import StandardScaler\n",
    "import collections\n",
    "import socket\n",
    "import struct\n",
    "import os\n",
    "import pickle\n",
    "import time"
   ]
  },
  {
   "cell_type": "code",
   "execution_count": 26,
   "id": "4fd06e2a",
   "metadata": {},
   "outputs": [],
   "source": [
    "ScalerPath = \"./GeneratedData/Scaler.pickle\"\n",
    "ModelPath = \"./GeneratedData/Model.pickle\"\n",
    "HeaderWithoutAccel = [\"ApproachRate\", \n",
    "                      \"Rel_Pos_Magnitude\", \n",
    "                      \"SteerB\", \n",
    "                      \"A_Head_Center_Distance\", \"B_Head_Center_Distance\", \n",
    "                      \"Filtered_B_Head_Velocity_Total\",\n",
    "                      \"A_Turn\",\n",
    "                      \"B_Indicator\",\n",
    "                      \"Centerline_Offset_B\",\n",
    "                      \"RelativeRotation\"]\n",
    "outputHeader = [\"AccelA\"]\n",
    "input_size = len(HeaderWithoutAccel)\n",
    "hidden_size = 8\n",
    "TargetTimeLength = 0.75 ## in seconds\n",
    "Seq_Length = 13\n",
    "output_size = len(outputHeader)"
   ]
  },
  {
   "cell_type": "code",
   "execution_count": 33,
   "id": "e7580e95",
   "metadata": {},
   "outputs": [],
   "source": [
    "class GRUModel(nn.Module):\n",
    "    def __init__(self, input_size, hidden_size, output_size, seq_length, num_layers=1):\n",
    "        super(GRUModel, self).__init__()\n",
    "        self.hidden_size = hidden_size\n",
    "        self.num_layers = num_layers\n",
    "        self.seq_length = seq_length\n",
    "\n",
    "\n",
    "        # GRU layer\n",
    "        self.rnn = nn.GRU(input_size, hidden_size, num_layers, batch_first=True)\n",
    "        # Fully connected layer\n",
    "        self.fc = nn.Linear(hidden_size * seq_length, output_size)\n",
    "\n",
    "    def forward(self, x):\n",
    "        # Initialize hidden state\n",
    "        h0 = torch.zeros(self.num_layers, x.size(0), self.hidden_size).to(x.device)\n",
    "\n",
    "        # Forward propagate RNN\n",
    "        out, _ = self.rnn(x, h0)\n",
    "\n",
    "        # Reshape output to fit the fully connected layer\n",
    "        out = out.reshape(out.shape[0], -1)\n",
    "        out = self.fc(out)\n",
    "        return out"
   ]
  },
  {
   "cell_type": "code",
   "execution_count": 31,
   "id": "b15c7f0b",
   "metadata": {},
   "outputs": [],
   "source": [
    "scaler=None\n",
    "if os.path.exists(ScalerPath):\n",
    "    with open(ScalerPath, 'rb') as file:\n",
    "        scaler = pickle.load(file)\n",
    "else:\n",
    "    print (\"Could NOT find Scaler\")"
   ]
  },
  {
   "cell_type": "code",
   "execution_count": 34,
   "id": "3d550c98",
   "metadata": {},
   "outputs": [],
   "source": [
    "net = GRUModel(len(HeaderWithoutAccel), hidden_size, output_size,Seq_Length)\n",
    "net.load_state_dict(torch.load(ModelPath))\n",
    "net.eval()\n",
    "d = collections.deque(maxlen=Seq_Length)"
   ]
  },
  {
   "cell_type": "code",
   "execution_count": 36,
   "id": "ea3077fd",
   "metadata": {},
   "outputs": [
    {
     "ename": "ValueError",
     "evalue": "setting an array element with a sequence. The requested array has an inhomogeneous shape after 1 dimensions. The detected shape was (13,) + inhomogeneous part.",
     "output_type": "error",
     "traceback": [
      "\u001b[0;31m---------------------------------------------------------------------------\u001b[0m",
      "\u001b[0;31mValueError\u001b[0m                                Traceback (most recent call last)",
      "Cell \u001b[0;32mIn[36], line 3\u001b[0m\n\u001b[1;32m      1\u001b[0m \u001b[38;5;28;01mfor\u001b[39;00m i \u001b[38;5;129;01min\u001b[39;00m \u001b[38;5;28mrange\u001b[39m(\u001b[38;5;241m10\u001b[39m):\n\u001b[1;32m      2\u001b[0m     d\u001b[38;5;241m.\u001b[39mappend(np\u001b[38;5;241m.\u001b[39mones(input_size)\u001b[38;5;241m+\u001b[39mi)\n\u001b[0;32m----> 3\u001b[0m scaled_features \u001b[38;5;241m=\u001b[39m scaler\u001b[38;5;241m.\u001b[39mtransform(\u001b[43mnp\u001b[49m\u001b[38;5;241;43m.\u001b[39;49m\u001b[43marray\u001b[49m\u001b[43m(\u001b[49m\u001b[43md\u001b[49m\u001b[43m)\u001b[49m)\n\u001b[1;32m      4\u001b[0m net(torch\u001b[38;5;241m.\u001b[39mTensor([scaled_features]))\n",
      "\u001b[0;31mValueError\u001b[0m: setting an array element with a sequence. The requested array has an inhomogeneous shape after 1 dimensions. The detected shape was (13,) + inhomogeneous part."
     ]
    }
   ],
   "source": [
    "# Initial Status\n",
    "for i in range(10):\n",
    "    d.append(np.ones(input_size)+i)\n",
    "scaled_features = scaler.transform(np.array(d))\n",
    "net(torch.Tensor([scaled_features]))"
   ]
  },
  {
   "cell_type": "code",
   "execution_count": 5,
   "id": "daf31bc3",
   "metadata": {},
   "outputs": [],
   "source": [
    "UDP_IP = \"127.0.0.1\"\n",
    "txPort = 8000\n",
    "rxPort = 8001\n",
    "sock = socket.socket(socket.AF_INET, socket.SOCK_DGRAM) # UDP\n",
    "sock.bind((UDP_IP, rxPort))"
   ]
  },
  {
   "cell_type": "code",
   "execution_count": 7,
   "metadata": {},
   "outputs": [],
   "source": [
    "while True:\n",
    "    try:\n",
    "        data, addr = sock.recvfrom(1024) # buffer size is 1024 bytes\n",
    "       \n",
    "        if(int(len(data)/4)!=7):\n",
    "            print(\"Didnt get enoughb bytes, continuing!\",int(len(data)/4))\n",
    "            continue\n",
    "        array = struct.unpack('fffffff', data) \n",
    "\n",
    "        d.append(np.array(array))\n",
    "        scaled_features = scaler.transform(np.array(d))\n",
    "        val = net(torch.Tensor([scaled_features]))\n",
    "        floatlist=[val]\n",
    "        #print(array,val)\n",
    "        buf = struct.pack('%sf' % len(floatlist), *floatlist)\n",
    "        sock.sendto(buf, (UDP_IP, txPort))\n",
    "    except BlockingIOError:\n",
    "        time.sleep(1/19)\n",
    "        "
   ]
  },
  {
   "cell_type": "code",
   "execution_count": null,
   "metadata": {},
   "outputs": [],
   "source": []
  }
 ],
 "metadata": {
  "kernelspec": {
   "display_name": "Python 3 (ipykernel)",
   "language": "python",
   "name": "python3"
  },
  "language_info": {
   "codemirror_mode": {
    "name": "ipython",
    "version": 3
   },
   "file_extension": ".py",
   "mimetype": "text/x-python",
   "name": "python",
   "nbconvert_exporter": "python",
   "pygments_lexer": "ipython3",
   "version": "3.8.18"
  }
 },
 "nbformat": 4,
 "nbformat_minor": 5
}
