{
 "cells": [
  {
   "cell_type": "code",
   "execution_count": 1,
   "id": "ae1edbf4",
   "metadata": {},
   "outputs": [],
   "source": [
    "import pandas as pd\n",
    "import numpy as np\n",
    "import glob\n",
    "import torch\n",
    "import torch.nn as nn\n",
    "import torch.nn.functional as F\n",
    "import matplotlib.pyplot as plt\n",
    "from matplotlib.patches import Circle\n",
    "import pickle\n",
    "import os\n",
    "import plotly.express as px\n",
    "import base64\n",
    "from scipy.interpolate import interp1d\n",
    "import re\n",
    "import collections\n",
    "import socket\n",
    "import struct\n",
    "import time"
   ]
  },
  {
   "cell_type": "code",
   "execution_count": 14,
   "id": "cbdbdf48",
   "metadata": {},
   "outputs": [],
   "source": [
    "ScalerPath = \"./Model/Scaler.pickle\"\n",
    "AccelRNNModelPath = \"./Model/AccelRNNModel.pickle\"\n",
    "CORNNModelPath = \"./Model/CORNNModel.pickle\""
   ]
  },
  {
   "cell_type": "code",
   "execution_count": 15,
   "id": "4c72a861",
   "metadata": {},
   "outputs": [],
   "source": [
    "class GRUModel(nn.Module):\n",
    "    def __init__(self, input_size, hidden_size, output_size, seq_length, num_layers):\n",
    "        super(GRUModel, self).__init__()\n",
    "        self.hidden_size = hidden_size\n",
    "        self.num_layers = num_layers\n",
    "        self.seq_length = seq_length\n",
    "\n",
    "\n",
    "        # GRU layer\n",
    "        self.rnn = nn.GRU(input_size, hidden_size, num_layers, batch_first=True)\n",
    "        # Fully connected layer\n",
    "        self.fc = nn.Linear(hidden_size * seq_length, output_size)\n",
    "\n",
    "    def forward(self, x):\n",
    "        # Initialize hidden state\n",
    "        h0 = torch.zeros(self.num_layers, x.size(0), self.hidden_size).to(x.device)\n",
    "\n",
    "        # Forward propagate RNN\n",
    "        out, _ = self.rnn(x, h0)\n",
    "\n",
    "        # Reshape output to fit the fully connected layer\n",
    "        out = out.reshape(out.shape[0], -1)\n",
    "        out = self.fc(out)\n",
    "        print(\"Shape of output before FC:\", out.shape)\n",
    "        return out"
   ]
  },
  {
   "cell_type": "code",
   "execution_count": 16,
   "id": "605c853f",
   "metadata": {},
   "outputs": [],
   "source": [
    "scaler=None\n",
    "if os.path.exists(ScalerPath):\n",
    "    with open(ScalerPath, 'rb') as file:\n",
    "        scaler = pickle.load(file)\n",
    "else:\n",
    "    print (\"Could NOT find Scaler\")"
   ]
  },
  {
   "cell_type": "code",
   "execution_count": 17,
   "id": "3ff8448f",
   "metadata": {},
   "outputs": [],
   "source": [
    "inputHeader = [\"ApproachRateOther\", \n",
    "               \"Rel_Pos_Magnitude\", \n",
    "               \"SteerB\", \n",
    "               \"A_Head_Center_Distance\", \"B_Head_Center_Distance\", \n",
    "               \"Filtered_B_Head_Velocity_Total\",\n",
    "               \"A_Turn\",\n",
    "               \"B_Indicator\",\n",
    "               \"Centerline_Offset_B\",\n",
    "               \"RelativeRotation\"]"
   ]
  },
  {
   "cell_type": "markdown",
   "id": "a175dc36",
   "metadata": {},
   "source": [
    "# Aceeleration RNN Model"
   ]
  },
  {
   "cell_type": "code",
   "execution_count": 18,
   "id": "7cf835ac",
   "metadata": {},
   "outputs": [
    {
     "data": {
      "text/plain": [
       "GRUModel(\n",
       "  (rnn): GRU(10, 64, batch_first=True)\n",
       "  (fc): Linear(in_features=832, out_features=1, bias=True)\n",
       ")"
      ]
     },
     "execution_count": 18,
     "metadata": {},
     "output_type": "execute_result"
    }
   ],
   "source": [
    "HeaderWithoutAccel = [\"ApproachRateOther\", \n",
    "                      \"Rel_Pos_Magnitude\", \n",
    "                      \"SteerB\", \n",
    "                      \"A_Head_Center_Distance\", \"B_Head_Center_Distance\", \n",
    "                      \"Filtered_B_Head_Velocity_Total\",\n",
    "                      \"A_Turn\",\n",
    "                      \"B_Indicator\",\n",
    "                      \"Centerline_Offset_B\",\n",
    "                      \"RelativeRotation\"]\n",
    "\n",
    "outputHeader = [\"AccelA\"]\n",
    "\n",
    "input_size = len(inputHeader)\n",
    "output_size = len(outputHeader)\n",
    "\n",
    "Seq_Length = 13\n",
    "hidden_size = 64\n",
    "num_layers = 1\n",
    "\n",
    "accelA_net = GRUModel(input_size=input_size, \n",
    "                      hidden_size=hidden_size, \n",
    "                      seq_length=Seq_Length,\n",
    "                      output_size=output_size, \n",
    "                      num_layers=num_layers)\n",
    "    \n",
    "accelA_net.load_state_dict(torch.load(AccelRNNModelPath))\n",
    "accelA_net.eval()"
   ]
  },
  {
   "cell_type": "markdown",
   "id": "f000e866",
   "metadata": {},
   "source": [
    "# Centerline Offset RNN Model"
   ]
  },
  {
   "cell_type": "code",
   "execution_count": 19,
   "id": "3d550c98",
   "metadata": {},
   "outputs": [
    {
     "data": {
      "text/plain": [
       "GRUModel(\n",
       "  (rnn): GRU(10, 64, num_layers=3, batch_first=True)\n",
       "  (fc): Linear(in_features=832, out_features=1, bias=True)\n",
       ")"
      ]
     },
     "execution_count": 19,
     "metadata": {},
     "output_type": "execute_result"
    }
   ],
   "source": [
    "outputHeader = [\"Centerline_Offset_A\"]\n",
    "\n",
    "input_size = len(inputHeader)\n",
    "output_size = len(outputHeader)\n",
    "\n",
    "Seq_Length = 13\n",
    "hidden_size = 64\n",
    "num_layers = 3\n",
    "\n",
    "coA_net = GRUModel(input_size=input_size, \n",
    "                   hidden_size=hidden_size, \n",
    "                   seq_length=Seq_Length,\n",
    "                   output_size=output_size, \n",
    "                   num_layers=num_layers)\n",
    "    \n",
    "coA_net.load_state_dict(torch.load(CORNNModelPath))\n",
    "coA_net.eval()"
   ]
  },
  {
   "cell_type": "markdown",
   "metadata": {},
   "source": [
    "# Initial Status"
   ]
  },
  {
   "cell_type": "code",
   "execution_count": 20,
   "id": "8ebfd038",
   "metadata": {},
   "outputs": [],
   "source": [
    "d = collections.deque(maxlen=Seq_Length)\n",
    "\n",
    "for i in range(Seq_Length):\n",
    "    d.append(np.ones(input_size)+i)\n",
    "scaled_features = scaler.transform(np.array(d))"
   ]
  },
  {
   "cell_type": "code",
   "execution_count": 21,
   "id": "734f6030",
   "metadata": {},
   "outputs": [
    {
     "name": "stdout",
     "output_type": "stream",
     "text": [
      "Shape of output before FC: torch.Size([1, 1])\n"
     ]
    },
    {
     "data": {
      "text/plain": [
       "0.43574059009552"
      ]
     },
     "execution_count": 21,
     "metadata": {},
     "output_type": "execute_result"
    }
   ],
   "source": [
    "accelA_net(torch.Tensor([scaled_features])).item()"
   ]
  },
  {
   "cell_type": "code",
   "execution_count": 22,
   "id": "03791426",
   "metadata": {},
   "outputs": [
    {
     "name": "stdout",
     "output_type": "stream",
     "text": [
      "Shape of output before FC: torch.Size([1, 1])\n"
     ]
    },
    {
     "data": {
      "text/plain": [
       "0.15810000896453857"
      ]
     },
     "execution_count": 22,
     "metadata": {},
     "output_type": "execute_result"
    }
   ],
   "source": [
    "coA_net(torch.Tensor([scaled_features])).item()"
   ]
  },
  {
   "cell_type": "markdown",
   "id": "7e63cd66",
   "metadata": {},
   "source": [
    "# Data Socket\n"
   ]
  },
  {
   "cell_type": "code",
   "execution_count": 23,
   "id": "daf31bc3",
   "metadata": {},
   "outputs": [],
   "source": [
    "UDP_IP = \"127.0.0.1\"\n",
    "txPort = 8000\n",
    "rxPort =8001\n",
    "sock = socket.socket(socket.AF_INET, socket.SOCK_DGRAM) # UDP\n",
    "sock.bind((UDP_IP, rxPort))"
   ]
  },
  {
   "cell_type": "code",
   "execution_count": 24,
   "metadata": {},
   "outputs": [
    {
     "ename": "KeyboardInterrupt",
     "evalue": "",
     "output_type": "error",
     "traceback": [
      "\u001b[0;31m---------------------------------------------------------------------------\u001b[0m",
      "\u001b[0;31mKeyboardInterrupt\u001b[0m                         Traceback (most recent call last)",
      "Cell \u001b[0;32mIn[24], line 3\u001b[0m\n\u001b[1;32m      1\u001b[0m \u001b[38;5;28;01mwhile\u001b[39;00m \u001b[38;5;28;01mTrue\u001b[39;00m:\n\u001b[1;32m      2\u001b[0m     \u001b[38;5;28;01mtry\u001b[39;00m:\n\u001b[0;32m----> 3\u001b[0m         data, addr \u001b[38;5;241m=\u001b[39m \u001b[43msock\u001b[49m\u001b[38;5;241;43m.\u001b[39;49m\u001b[43mrecvfrom\u001b[49m\u001b[43m(\u001b[49m\u001b[38;5;241;43m1024\u001b[39;49m\u001b[43m)\u001b[49m \u001b[38;5;66;03m# buffer size is 1024 bytes\u001b[39;00m\n\u001b[1;32m      5\u001b[0m         \u001b[38;5;28;01mif\u001b[39;00m(\u001b[38;5;28mint\u001b[39m(\u001b[38;5;28mlen\u001b[39m(data)\u001b[38;5;241m/\u001b[39m\u001b[38;5;241m4\u001b[39m)\u001b[38;5;241m!=\u001b[39m\u001b[38;5;241m7\u001b[39m):\n\u001b[1;32m      6\u001b[0m             \u001b[38;5;28mprint\u001b[39m(\u001b[38;5;124m\"\u001b[39m\u001b[38;5;124mDidnt get enoughb bytes, continuing!\u001b[39m\u001b[38;5;124m\"\u001b[39m,\u001b[38;5;28mint\u001b[39m(\u001b[38;5;28mlen\u001b[39m(data)\u001b[38;5;241m/\u001b[39m\u001b[38;5;241m4\u001b[39m))\n",
      "\u001b[0;31mKeyboardInterrupt\u001b[0m: "
     ]
    }
   ],
   "source": [
    "while True:\n",
    "    try:\n",
    "        data, addr = sock.recvfrom(1024) # buffer size is 1024 bytes\n",
    "       \n",
    "        if(int(len(data)/4)!=10):\n",
    "            print(\"Didnt get enoughb bytes, continuing!\",int(len(data)/4))\n",
    "            continue\n",
    "        array = struct.unpack('ffffffffff', data) \n",
    "\n",
    "        d.append(np.array(array))\n",
    "        scaled_features = scaler.transform(np.array(d))\n",
    "        \n",
    "        # val = net(torch.Tensor([scaled_features]))\n",
    "        # Predict using accelA_net\n",
    "        accelA_val = accelA_net(torch.Tensor([scaled_features])).item()\n",
    "        # Predict using coA_net\n",
    "        coA_val = coA_net(torch.Tensor([scaled_features])).item()\n",
    "\n",
    "        # Send predictions\n",
    "        # floatlist=[val]\n",
    "        floatlist = [accelA_val, coA_val]\n",
    "\n",
    "        #print(array,val)\n",
    "        buf = struct.pack('%sf' % len(floatlist), *floatlist)\n",
    "        sock.sendto(buf, (UDP_IP, txPort))\n",
    "    except BlockingIOError:\n",
    "        time.sleep(1/19)"
   ]
  },
  {
   "cell_type": "code",
   "execution_count": null,
   "metadata": {},
   "outputs": [],
   "source": []
  }
 ],
 "metadata": {
  "kernelspec": {
   "display_name": "Python 3 (ipykernel)",
   "language": "python",
   "name": "python3"
  },
  "language_info": {
   "codemirror_mode": {
    "name": "ipython",
    "version": 3
   },
   "file_extension": ".py",
   "mimetype": "text/x-python",
   "name": "python",
   "nbconvert_exporter": "python",
   "pygments_lexer": "ipython3",
   "version": "3.8.18"
  }
 },
 "nbformat": 4,
 "nbformat_minor": 5
}
